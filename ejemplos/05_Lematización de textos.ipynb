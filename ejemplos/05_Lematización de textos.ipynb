{
 "cells": [
  {
   "cell_type": "markdown",
   "metadata": {},
   "source": [
    "# Ejemplo: Lematización de textos\n",
    "**Autor:** Unidad de Científicos de Datos (UCD)\n",
    "\n",
    "---\n",
    "Este ejemplo muestra las principales funcionalidades del módulo `lematizacion`, de la librería **ConTexto**. Este módulo permite realizar lematización de textos, una operación que consiste en transormar las palabras de su forma flexionada (plural, femenino, conjugaciones, etc.) a su lema correspondiente, el cual es el representante de todas las formas flexionadas de una misma palabra. Por ejemplo, las palabras niños, niña y niñito tienen todas el mismo lema: niño. Realizar lematización sobre textos puede simplificarlos, al unificar palabras que comparten el mismo lema, y evitando así tener un vocabulario más grande de lo necesario.\n",
    "\n",
    "Para mayor información sobre este módulos y sus funciones, se puede consultar <a href=\"https://ucd-dnp.github.io/ConTexto/funciones/lematizacion.html\" target=\"_blank\">su documentación</a>."
   ]
  },
  {
   "cell_type": "markdown",
   "metadata": {},
   "source": [
    "---\n",
    "\n",
    "## 1. Definir textos de prueba\n",
    "\n",
    "El módulo de lematización de **ConTexto** cuenta con dos lematizadores distintos, cada uno apoyado en una librería de NLP distinta: <a href=\"https://spacy.io/\" target=\"_blank\">spaCy</a> y <a href=\"https://stanfordnlp.github.io/stanza/\" target=\"_blank\">Stanza</a>. En este cuaderno se mostrará el usto de ambas clases, `LematizadorSpacy` y `LematizadorStanza`, y de la función `lematizar_texto`, que puede utilizar cualquiera de los dos lematizadores.\n",
    "\n",
    "En primer lugar, se definen los textos que se utilizarán para correr los ejemplos.\n"
   ]
  },
  {
   "cell_type": "code",
   "execution_count": 1,
   "metadata": {},
   "outputs": [],
   "source": [
    "import time\n",
    "from contexto.lematizacion import LematizadorSpacy, LematizadorStanza\n",
    "from contexto.lematizacion import lematizar_texto\n",
    "\n",
    "# textos de prueba\n",
    "texto = 'esta es una prueba para ver si las funciones son correctas y funcionan bien. Perritos y gatos van a la casita'\n",
    "texto_ingles = 'this is a test writing to study if these functions are performing well'\n",
    "textos = [\n",
    "    \"Esta es una primera entrada en el grupo de textos\",\n",
    "    \"El Pibe Valderrama empezó a destacar jugando fútbol desde chiquitin\",\n",
    "    \"De los pájaros del monte yo quisiera ser canario\",\n",
    "    \"Finalizando esta listica, se incluye una última frase un poquito más larga que las anteriores.\"\n",
    "]\n"
   ]
  },
  {
   "cell_type": "markdown",
   "metadata": {},
   "source": [
    "---\n",
    "\n",
    "## 2. Lematización de textos utilizando spaCy\n",
    "\n",
    "La función `lematizar_texto` se encarga de aplicar lematización a todas las palabras de un texto de entrada. Al realizarse con el lematizador de spaCy, que se utiliza por defecto, el usuario puede elegir el lenguaje y el tamaño del modelo. Para la mayoría de lenguajes hay 3 tamaños de modelos: pequeño ('sm'), mediano ('md') y grande ('lg'). Entre más grande sea el modelo, es posible que tenga un vocabulario más amplio o características adicionales, pero también el archivo del modelo será más grande.\n",
    "\n",
    "**Nota:** La primera vez que se utilice una combinación particular de lenguaje + tamaño, la librería descargará el modelo correspondiente en el computador del usuario. Para poder usar este modelo, se debe reiniciar la sesión de Python y correr la función de nuevo.\n"
   ]
  },
  {
   "cell_type": "code",
   "execution_count": 2,
   "metadata": {},
   "outputs": [
    {
     "name": "stdout",
     "output_type": "stream",
     "text": [
      "este ser uno probar parir ver si los funcionar ser correcto y funcionar bien perrito y gato ir a lo casita\n",
      "----\n",
      "this be a test write to study if these function be perform well\n"
     ]
    }
   ],
   "source": [
    "# Lematización con librería Spacy \n",
    "texto_lematizado = lematizar_texto(texto)\n",
    "print(texto_lematizado)\n",
    "\n",
    "print('----')\n",
    "# Prueba en otro lenguaje (en este caso se detecta automáticamente que es inglés)\n",
    "lemma_english = lematizar_texto(texto_ingles, 'auto', dim_modelo='small')\n",
    "print(lemma_english)\n"
   ]
  },
  {
   "cell_type": "markdown",
   "metadata": {},
   "source": [
    "### 2.1 Agregar lemas personalizados\n",
    "\n",
    "Los modelos cuentan con algunos diccionarios de lemas, que utilizan para aplicar la lematización. Así, por ejemplo, el lematizador sabe que para la palabra \"iba\", su lema debería ser \"ir\".\n",
    "\n",
    "Es posible que el diccionario del lematizador no contenga todos los casos que nos interesan, por lo que es necesario complementar el lematizador. Esto se puede hacer desde un archivo JSON o desde un diccionario de Python."
   ]
  },
  {
   "cell_type": "code",
   "execution_count": 3,
   "metadata": {},
   "outputs": [
    {
     "name": "stdout",
     "output_type": "stream",
     "text": [
      "este ser uno probar parir ver si los funcionar ser correcto y funcionar bien perro y gato ir a lo casita\n",
      "------\n",
      "este ser uno probar parir ver si los funcionar ser correcto y funcionar bien perro y gato ir a lo casa\n"
     ]
    }
   ],
   "source": [
    "# Agregar lemas desde un archivo\n",
    "archivo_lemmas = 'entrada/dict_lemas.json'\n",
    "texto_lematizado_v2 = lematizar_texto(texto, dict_lemmas=archivo_lemmas)\n",
    "print(texto_lematizado_v2)\n",
    "\n",
    "# Agregar desde un diccionario\n",
    "segundo_dict = {\n",
    "    \"casita\": \"casa\",\n",
    "    \"casitas\": \"casa\",\n",
    "    \"para\": \"para\",\n",
    "    \"perrito\": \"perro\",\n",
    "    \"perritos\": \"perro\",\n",
    "    \"gatos\": \"gato\"\n",
    "}\n",
    "texto_lematizado_v3 = lematizar_texto(texto, dict_lemmas=segundo_dict)\n",
    "print('------')\n",
    "print(texto_lematizado_v3)\n"
   ]
  },
  {
   "cell_type": "markdown",
   "metadata": {},
   "source": [
    "### 2.2 Corrección de varios textos utilizando un solo objeto de la clase `LematizadorSpacy`\n",
    "\n",
    "Si se desea lematizar un conjunto de textos, puede ser más rápido definir un único objeto de clase `LematizadorSpacy`, y pasar este objeto en el parámetro *lematizador* de la función `lematizar_texto`. Al hacer esto puede haber un ahorro de tiempo, pues se evita inicializar un nuevo objeto de clase `LematizadorSpacy` para cada texto. Este ahorro de tiempo será mayor a medida que sean más los textos que se desean lematizar.\n",
    "\n",
    "A continuación se muestra una comparación de tiempos para dos opciones:\n",
    "\n",
    "1. Lematizar una lista de textos, aplicando la función `lematizar_texto` a cada uno sin ninguna otra consideración.\n",
    "2. Definir un objeto de clase `LematizadorSpacy` y utilizarlo para lematizar la misma lista de textos."
   ]
  },
  {
   "cell_type": "code",
   "execution_count": 4,
   "metadata": {},
   "outputs": [
    {
     "name": "stdout",
     "output_type": "stream",
     "text": [
      "este ser uno primero entrar en el grupo de texto\n",
      "el pibe valderrama empezar a destacar jugar fútbol desde chiquitin\n",
      "de lo pájaro del montar yo querer ser canario\n",
      "finalizar este listica se incluir uno último frase uno poquito más largo que los anterior\n",
      "--------------------\n",
      "este ser uno primero entrar en el grupo de texto\n",
      "el pibe valderrama empezar a destacar jugar fútbol desde chiquitin\n",
      "de lo pájaro del montar yo querer ser canario\n",
      "finalizar este listica se incluir uno último frase uno poquito más largo que los anterior\n",
      "\n",
      "***************\n",
      "\n",
      "Tiempo con opción 1: 10.844398021697998 segundos\n",
      "\n",
      "Tiempo con opción 2: 2.4355220794677734 segundos\n",
      "\n"
     ]
    }
   ],
   "source": [
    "# Opción 1: se inicializa el lematizador en cada texto\n",
    "tic = time.time()\n",
    "for t in textos:\n",
    "    print(lematizar_texto(t))\n",
    "\n",
    "tiempo_1 = time.time() - tic\n",
    "\n",
    "# Opción 2: se utiliza solo un lematizador para todos los textos\n",
    "print('--------------------')\n",
    "tic = time.time()\n",
    "lematizador = LematizadorSpacy('es')\n",
    "for t in textos:\n",
    "    print(lematizar_texto(t, lematizador=lematizador))\n",
    "\n",
    "tiempo_2 = time.time() - tic\n",
    "\n",
    "print('\\n***************\\n')\n",
    "print('Tiempo con opción 1: {} segundos\\n'.format(tiempo_1))\n",
    "print('Tiempo con opción 2: {} segundos\\n'.format(tiempo_2))\n"
   ]
  },
  {
   "cell_type": "markdown",
   "metadata": {},
   "source": [
    "---\n",
    "\n",
    "## 3. Lematización de textos utilizando Stanza\n",
    "\n",
    "El parámetro *libreria* de la función `lematizar_texto` permite elegir 'stanza', para utilizar esta librería. se encarga de aplicar lematización a todas las palabras de un texto de entrada. Si se define *liberia='stanza'*, la función utilizará el lematizador de la clase `LematizadorStanza`. La primera vez que se seleccione un modelo de un lenguaje determinado, la función descargará el modelo correspondiente en el computador del usuario. Este proceso puede durar algunos minutos, dependiendo de la conexión a internet.\n",
    "\n",
    "Es importante recalcar que para poder utilizar el `LematizadorStanza` es necesario tener los paquetes **torch, torhvision y stanza** instalados, que no vienen en la versión de **ConTexto** instalable a través de pip. Para mayor información sobre esto, se puede consultar la <a href=\"https://ucd-dnp.github.io/ConTexto/instalacion/instalacion_contexto.html#instalacion-basica\" target=\"_blank\">documentación de instalación de ConTexto</a>."
   ]
  },
  {
   "cell_type": "code",
   "execution_count": 5,
   "metadata": {},
   "outputs": [
    {
     "name": "stdout",
     "output_type": "stream",
     "text": [
      "este ser uno prueba para ver si el función ser correcto y funcionar bien perrito y gato ir a el casita\n",
      "------\n",
      "this be a test writing to study if these function be perform well\n"
     ]
    }
   ],
   "source": [
    "# Lematización con librería Stanza ###\n",
    "texto_lematizado = lematizar_texto(texto, libreria='stanza')\n",
    "print(texto_lematizado)\n",
    "\n",
    "# Prueba en otro lenguaje\n",
    "lemma_english = lematizar_texto(texto_ingles, lenguaje='ingles', libreria='stanza')\n",
    "print('------')\n",
    "print(lemma_english)\n"
   ]
  },
  {
   "cell_type": "markdown",
   "metadata": {},
   "source": [
    "### 3.1 Agregar lemas personalizados\n",
    "\n",
    "Al igual que en el caso de spaCy, el `LematizadorStanza` permite añadir o modificar lemas, utilizando un archivo JSON o un diccionario de Python. Esto se hace con la función `modificar_lemmas`, y se puede utilizar el parámetro *archivo_salida* para  determinar dónde se quiere guardar el modelo resultante. \n",
    "\n",
    "De esta manera, este modelo puede ser luego cargado a un objeto de clase `LematizadorStanza` para seguirlo utilizando o modificando. Para cargar un modelo guardado previamente, es necesario utilizar el parámetro *modelo_lemas*, al definir el objeto lematizador.\n"
   ]
  },
  {
   "cell_type": "code",
   "execution_count": 6,
   "metadata": {},
   "outputs": [
    {
     "name": "stdout",
     "output_type": "stream",
     "text": [
      "este ser uno prueba para ver si el función ser correcto y funcionar bien perro y gato ir a el casita\n",
      "------\n",
      "el pibe valderramo empezar a destacar jugar fútbol desde chiquitin\n",
      "el pibe valderrama empezar a destacar jugar fútbol desde chico\n"
     ]
    }
   ],
   "source": [
    "## Utilizar un archivo JSON al momento de lematizar\n",
    "archivo_lemmas = 'entrada/dict_lemas.json'\n",
    "texto_lematizado_v2 = lematizar_texto(texto,libreria='stanza',dict_lemmas=archivo_lemmas)\n",
    "print(texto_lematizado_v2)\n",
    "print('------')\n",
    "\n",
    "## Modificar los lemas utilizando un diccionario\n",
    "segundo_dict = {\n",
    "    \"chiquitin\": \"chico\",\n",
    "    'valderrama': 'valderrama',\n",
    "    'listica': 'lista'\n",
    "}\n",
    "\n",
    "# Inicializar lematizador para lenguaje español\n",
    "lematizador = LematizadorStanza('es')\n",
    "print(lematizador.lematizar(textos[1]))\n",
    "# Modificar lemas y guardar el modelo resultante\n",
    "lematizador.modificar_lemmas(dict_lemmas=segundo_dict, archivo_salida='salida/modelo_lemas_stanza.pt')\n",
    "# Lemarizar de nuevo el mismo texto, después de la modificación\n",
    "print(lematizador.lematizar(textos[1]))\n",
    "\n"
   ]
  },
  {
   "cell_type": "markdown",
   "metadata": {},
   "source": [
    "### 3.2 Corrección de varios textos utilizando un solo objeto de la clase `LematizadorStanza`\n",
    "\n",
    "Si se desea lematizar un conjunto de textos, puede ser más rápido definir un único objeto de clase `LematizadorStanza`, y pasar este objeto en el parámetro *lematizador* de la función `lematizar_texto`. Al hacer esto puede haber un ahorro de tiempo, pues se evita inicializar un nuevo objeto de clase `LematizadorStanza` para cada texto. Este ahorro de tiempo será mayor a medida que sean más los textos que se desean lematizar.\n",
    "\n",
    "A continuación se muestra una comparación de tiempos para dos opciones:\n",
    "\n",
    "1. Lematizar una lista de textos, aplicando la función `lematizar_texto` a cada uno sin ninguna otra consideración.\n",
    "2. Definir un objeto de clase `LematizadorStanza` y utilizarlo para lematizar la misma lista de textos."
   ]
  },
  {
   "cell_type": "code",
   "execution_count": 7,
   "metadata": {},
   "outputs": [
    {
     "name": "stdout",
     "output_type": "stream",
     "text": [
      "este ser uno primero entrada en el grupo de texto\n",
      "el pibe valderrama empezar a destacar jugar fútbol desde chico\n",
      "de el pájaro del monte yo querer ser canario\n",
      "finalizar este lista él incluir uno último frase uno poquito más largo que el anterior\n",
      "--------------------\n",
      "este ser uno primero entrada en el grupo de texto\n",
      "el pibe valderrama empezar a destacar jugar fútbol desde chico\n",
      "de el pájaro del monte yo querer ser canario\n",
      "finalizar este lista él incluir uno último frase uno poquito más largo que el anterior\n",
      "\n",
      "***************\n",
      "\n",
      "Tiempo con opción 1: 3.8512158393859863 segundos\n",
      "\n",
      "Tiempo con opción 2: 1.04310941696167 segundos\n",
      "\n"
     ]
    }
   ],
   "source": [
    "# Opción 1: se inicializa el lematizador en cada texto\n",
    "tic = time.time()\n",
    "for t in textos:\n",
    "    print(lematizar_texto(t, libreria='stanza', modelo_lemas='salida/modelo_lemas_stanza.pt'))\n",
    "\n",
    "tiempo_1 = time.time() - tic\n",
    "\n",
    "# Opción 2: se utiliza solo un lematizador para todos los textos\n",
    "print('--------------------')\n",
    "tic = time.time()\n",
    "# Se carga el modelo guardado previamente en el ejemplo\n",
    "lematizador = LematizadorStanza('es', modelo_lemas='salida/modelo_lemas_stanza.pt')\n",
    "for t in textos:\n",
    "    print(lematizar_texto(t, lematizador=lematizador))\n",
    "\n",
    "tiempo_2 = time.time() - tic\n",
    "\n",
    "print('\\n***************\\n')\n",
    "print(f'Tiempo con opción 1: {tiempo_1} segundos\\n')\n",
    "print(f'Tiempo con opción 2: {tiempo_2} segundos\\n')\n"
   ]
  }
 ],
 "metadata": {
  "kernelspec": {
   "display_name": "Python 3",
   "language": "python",
   "name": "python3"
  },
  "language_info": {
   "codemirror_mode": {
    "name": "ipython",
    "version": 3
   },
   "file_extension": ".py",
   "mimetype": "text/x-python",
   "name": "python",
   "nbconvert_exporter": "python",
   "pygments_lexer": "ipython3",
   "version": "3.7.9"
  }
 },
 "nbformat": 4,
 "nbformat_minor": 4
}
