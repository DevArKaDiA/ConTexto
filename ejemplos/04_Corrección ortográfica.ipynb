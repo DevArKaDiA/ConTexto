{
 "cells": [
  {
   "cell_type": "markdown",
   "metadata": {},
   "source": [
    "# Ejemplo: Corrección ortográfica de textos\n",
    "**Autor:** Unidad de Científicos de Datos (UCD)\n",
    "\n",
    "---\n",
    "Este ejemplo muestra las principales funcionalidades del módulo `correccion`, de la librería **ConTexto**. Este módulo permite realizar corrección ortográfica de textos, lo que puede simplificar los documentos, al estandarizar palabras que deberían ser escritas de la misma forma y evitando así tener un vocabulario más grande de lo necesario.\n",
    "\n",
    "Para mayor información sobre este módulos y sus funciones, se puede consultar <a href=\"https://ucd-dnp.github.io/ConTexto/funciones/correccion.html\" target=\"_blank\">su documentación</a>."
   ]
  },
  {
   "cell_type": "markdown",
   "metadata": {},
   "source": [
    "---\n",
    "\n",
    "## 1. Importar funciones necesarias y definir textos de prueba\n",
    "\n",
    "En este caso se importa la función `corregir_texto`, que aplica corrección otrográfica a un texto de entrada, y la clase `Corrector`, que tiene algunas funcionalidades adicionales que pueden ser de utilidad. Adicionalmente, se definen algunos textos con mala ortografía para desarrollar los ejemplos.\n"
   ]
  },
  {
   "cell_type": "code",
   "execution_count": 1,
   "metadata": {},
   "outputs": [],
   "source": [
    "from contexto.correccion import Corrector, corregir_texto\n",
    "\n",
    "# textos de prueba\n",
    "texto = 'Ojalá halya un buen hasado de polllo, para poder comer delizioso palabrainventada.'\n",
    "texto_ingles = 'This is a tets writtyng to estudy if tese functions are performing guell.'\n",
    "textos = [\n",
    "    \"Esta es una pirmera emtrada en hel grupo de testos\",\n",
    "    \"El Pibe Valderrama empesó a deztacar jugando fútvol desde chikitin\",\n",
    "    \"De los pajaros del monnte yo quixiera ser canarrio\",\n",
    "    \"Finalisando esta lizta, se inclulle una última frace un pokito más larga ke las amteriores.\"\n",
    "]"
   ]
  },
  {
   "cell_type": "markdown",
   "metadata": {},
   "source": [
    "---\n",
    "\n",
    "## 2. Corrección de textos y detección de palabras conocidas, desconocidas y candidatas\n",
    "\n",
    "La función `corregir_texto` se encarga de detectar palabras desconocidas (que no están en el diccionario del corrector) en un texto y buscar una palabra correcta para corregirlas, dentro de una distancia determinada.\n"
   ]
  },
  {
   "cell_type": "code",
   "execution_count": 2,
   "metadata": {},
   "outputs": [
    {
     "name": "stdout",
     "output_type": "stream",
     "text": [
      "Ojalá haya un buen pasado de pollo, para poder comer delicioso palabrainventada.\n",
      "This is a test written to study if these functions are performing gull.\n"
     ]
    }
   ],
   "source": [
    "texto_corregido = corregir_texto(texto)\n",
    "print(texto_corregido)\n",
    "\n",
    "# Prueba en otro lenguaje\n",
    "corregido_ingles = corregir_texto(texto_ingles, 'en')\n",
    "print(corregido_ingles)\n",
    "\n",
    "# Si se deja el parámetro lenguaje en \"auto\", la función identificará\n",
    "# qué lenguaje es el predominante. Esto hará que la corrección sea un\n",
    "# poco más demorada\n",
    "corregido_ingles = corregir_texto(texto_ingles, lenguaje='auto')"
   ]
  },
  {
   "cell_type": "markdown",
   "metadata": {},
   "source": [
    "Al utilizar la clase `Corrector` es posible identificar explícitamente las palabras conocidas y desconocidas identidicadas en un texto de entrada, así como las palabras candidatas para corregir una palabra desconocida."
   ]
  },
  {
   "cell_type": "code",
   "execution_count": 3,
   "metadata": {},
   "outputs": [
    {
     "name": "stdout",
     "output_type": "stream",
     "text": [
      "Palabras en el texto que fueron reconocidas: {'de', 'ojalá', 'un', 'para', 'buen', 'poder', 'comer'}\n",
      "----\n",
      "Palabras en el texto que no fueron reconocidas: {'halya', 'hasado', 'polllo', 'delizioso', 'palabrainventada'}\n",
      "----\n",
      "Palabras candidatas para corregir la palabra \"hasado\": {'basado', 'casado', 'asado', 'pasado'}\n"
     ]
    }
   ],
   "source": [
    "# Definir un objeto de la clase Corrector\n",
    "corrector = Corrector(lenguaje='es')\n",
    "\n",
    "# Detectar palabras conocidas y desconocidas en un texto\n",
    "conocidas = corrector.palabras_conocidas(texto)\n",
    "desconocidas = corrector.palabras_desconocidas(texto)\n",
    "\n",
    "# Palabras candidatas para corregir una palabra mal escrita\n",
    "candidatas = corrector.palabras_candidatas('hasado')\n",
    "\n",
    "print(f'Palabras en el texto que fueron reconocidas: {conocidas}')\n",
    "print('----')\n",
    "print(f'Palabras en el texto que no fueron reconocidas: {desconocidas}')\n",
    "print('----')\n",
    "print(f'Palabras candidatas para corregir la palabra \"hasado\": {candidatas}')"
   ]
  },
  {
   "cell_type": "markdown",
   "metadata": {},
   "source": [
    "---\n",
    "\n",
    "## 3. Modificar el diccionario del corrector, para añadir, eliminar o cambiar la preferencia de las palabras\n",
    "\n",
    "La clase `Corrector` usa, para varios lenguajes, unos diccionarios predefinidos, que contienen el vocabulario \"válido\" o conocido, junto con la frecuencia de cada palabra. Estas frecuencias fueron obtenidas a partir de un corpus, o conjunto de documentos, determinado.\n",
    "\n",
    "Es posible modificar estos diccionarios para alcanzar 3 propósitos distintos:"
   ]
  },
  {
   "cell_type": "markdown",
   "metadata": {},
   "source": [
    "### 3.1 Incluir palabras como \"correctas\", a pesar de no estar en el diccionario original\n",
    "\n",
    "Por ejemplo, términos científicos o tecnológicos."
   ]
  },
  {
   "cell_type": "code",
   "execution_count": 4,
   "metadata": {},
   "outputs": [
    {
     "name": "stdout",
     "output_type": "stream",
     "text": [
      "{'halya', 'hasado', 'polllo', 'delizioso', 'palabrainventada'}\n",
      "{'polllo', 'halya', 'hasado', 'delizioso'}\n"
     ]
    }
   ],
   "source": [
    "# Crear objeto de la clase Corrector y mostrar las palabras que no son reconocidas\n",
    "corrector = Corrector(lenguaje='es')\n",
    "print(corrector.palabras_desconocidas(texto))\n",
    "\n",
    "## Caso 1: Añadir una nueva palabra al diccionario\n",
    "corrector.agregar_palabras('palabrainventada')\n",
    "print(corrector.palabras_desconocidas(texto))"
   ]
  },
  {
   "cell_type": "markdown",
   "metadata": {},
   "source": [
    "### 3.2 Quitar palabras que, a pesar de que aparecen en el diccionario original, no se desean marcar como correctas"
   ]
  },
  {
   "cell_type": "code",
   "execution_count": 5,
   "metadata": {},
   "outputs": [
    {
     "name": "stdout",
     "output_type": "stream",
     "text": [
      "set()\n",
      "{'head', 'house'}\n"
     ]
    }
   ],
   "source": [
    "## Caso 2: Quitar una palabra del diccionario\n",
    "t = 'Head y house son palabras en inglés. En español deberían ser marcadas como desconocidas.'\n",
    "\n",
    "print(corrector.palabras_desconocidas(t))\n",
    "\n",
    "corrector.quitar_palabras(['head', 'house'])\n",
    "\n",
    "print(corrector.palabras_desconocidas(t))"
   ]
  },
  {
   "cell_type": "markdown",
   "metadata": {},
   "source": [
    "### 3.3 Modificar las frecuencias de algunas palabras, de forma que tengan prelación sobre otras al momento de realizar una corrección\n",
    "\n",
    "En el texto original queremos que \"hasado\" se corrija por \"asado\". Sin embargo, la palabra \"pasado\" tiene mayor frecuencia en el diccionario, por lo que se toma como la más probable.\n",
    "\n",
    "Esto lo podemos modificar por medio del diccionario, para obtener el resultado deseado (esto puede tener efectos adversos, utilizar con cuidado)."
   ]
  },
  {
   "cell_type": "code",
   "execution_count": 6,
   "metadata": {},
   "outputs": [
    {
     "name": "stdout",
     "output_type": "stream",
     "text": [
      "basado: 4187\n",
      "casado: 20297\n",
      "asado: 2322\n",
      "pasado: 149286\n",
      "basado: 4187\n",
      "casado: 20297\n",
      "asado: 149287\n",
      "pasado: 149286\n",
      "----\n",
      "Texto corregido, después de cambiar algunas frecuencias en el diccionario:\n",
      "Ojalá haya un buen asado de pollo, para poder comer delicioso palabrainventada.\n"
     ]
    }
   ],
   "source": [
    "## Caso 3: Modificar la frecuencia de una palabra, para que tenga prioridad en correcciones\n",
    "\n",
    "for p in corrector.palabras_candidatas('hasado'):\n",
    "    freq = corrector.frecuencia_palabra(p)\n",
    "    print(f'{p}: {freq}')\n",
    "\n",
    "dict_asado = {'asado': corrector.frecuencia_palabra('pasado') + 1}\n",
    "corrector.actualizar_diccionario(dict_asado)\n",
    "\n",
    "for p in corrector.palabras_candidatas('hasado'):\n",
    "    freq = corrector.frecuencia_palabra(p)\n",
    "    print(f'{p}: {freq}')\n",
    "\n",
    "texto_corregido = corrector.correccion_ortografia(texto)\n",
    "\n",
    "print('----')\n",
    "print('Texto corregido, después de cambiar algunas frecuencias en el diccionario:',texto_corregido, sep='\\n')"
   ]
  },
  {
   "cell_type": "markdown",
   "metadata": {},
   "source": [
    "Las frecuencias de palabras también se pueden modificar con un archivo json que contenga el diccionario."
   ]
  },
  {
   "cell_type": "code",
   "execution_count": 7,
   "metadata": {},
   "outputs": [
    {
     "name": "stdout",
     "output_type": "stream",
     "text": [
      "230000\n",
      "2\n"
     ]
    }
   ],
   "source": [
    "ubicacion_dict = 'entrada/dict_ortografia.json'\n",
    "corrector.actualizar_diccionario(ubicacion_dict)\n",
    "\n",
    "print(corrector.frecuencia_palabra('asado'))\n",
    "print(corrector.frecuencia_palabra('palabrainventada'))"
   ]
  },
  {
   "cell_type": "markdown",
   "metadata": {},
   "source": [
    "---\n",
    "\n",
    "## 4. Corrección de varios textos utilizando un solo objeto de la clase `Corrector`\n",
    "\n",
    "Si se desea aplicar corrección ortográfica a un conjunto de textos, puede ser más rápido definir un único objeto de clase `Corrector`, y pasar este objeto en el parámetro *corrector* de la función `corregir_texto`. Al hacer esto puede haber un ahorro de tiempo, pues se evita inicializar un nuevo objeto de clase `Corrector` para cada texto. Este ahorro de tiempo será mayor a medida que sean más los textos que se desean corregir.\n",
    "\n",
    "A continuación se muestra una comparación de tiempos para dos opciones:\n",
    "\n",
    "1. Corregir una lista de textos, aplicando la función `corregir_texto` a cada uno sin ninguna otra consideración.\n",
    "2. Definir un objeto de clase `Corrector` y utilizarlo para corregir la misma lista de textos"
   ]
  },
  {
   "cell_type": "code",
   "execution_count": 8,
   "metadata": {},
   "outputs": [
    {
     "name": "stdout",
     "output_type": "stream",
     "text": [
      "Esta es una primera entrada en hel grupo de estos\n",
      "El Pibe Valderrama empezó a destacar jugando fútbol desde chikitin\n",
      "De los pajaros del monte yo quisiera ser canario\n",
      "Finalisando esta lista, se incluye una última grace un polito más larga ke las anteriores.\n",
      "--------------------\n",
      "Esta es una primera entrada en hel grupo de estos\n",
      "El Pibe Valderrama empezó a destacar jugando fútbol desde chikitin\n",
      "De los pajaros del monte yo quisiera ser canario\n",
      "Finalisando esta lista, se incluye una última grace un polito más larga ke las anteriores.\n",
      "\n",
      "***************\n",
      "Tiempo con opción 1: 2.269939661026001 segundos\n",
      "\n",
      "Tiempo con opción 2: 1.9779939651489258 segundos\n",
      "\n"
     ]
    }
   ],
   "source": [
    "import time\n",
    "\n",
    "# Opción 1: se inicializa el corrector en cada texto\n",
    "tic = time.time()\n",
    "for t in textos:\n",
    "    print(corregir_texto(t))\n",
    "\n",
    "tiempo_1 = time.time() - tic\n",
    "\n",
    "# Opción 2: se utiliza solo un corrector para todos los textos\n",
    "print('--------------------')\n",
    "tic = time.time()\n",
    "corrector = Corrector('spanish')\n",
    "for t in textos:\n",
    "    print(corregir_texto(t, corrector=corrector))\n",
    "\n",
    "tiempo_2 = time.time() - tic\n",
    "\n",
    "print('\\n***************')\n",
    "print(f'Tiempo con opción 1: {tiempo_1} segundos\\n')\n",
    "print(f'Tiempo con opción 2: {tiempo_2} segundos\\n')\n"
   ]
  }
 ],
 "metadata": {
  "kernelspec": {
   "display_name": "Python 3",
   "language": "python",
   "name": "python3"
  },
  "language_info": {
   "codemirror_mode": {
    "name": "ipython",
    "version": 3
   },
   "file_extension": ".py",
   "mimetype": "text/x-python",
   "name": "python",
   "nbconvert_exporter": "python",
   "pygments_lexer": "ipython3",
   "version": "3.8.5"
  }
 },
 "nbformat": 4,
 "nbformat_minor": 4
}
