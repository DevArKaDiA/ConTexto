{
 "cells": [
  {
   "cell_type": "markdown",
   "metadata": {},
   "source": [
    "# Ejemplo: Reducción de palabras a su raíz (Stemming) en textos\n",
    "**Autor:** Unidad de Científicos de Datos (UCD)\n",
    "\n",
    "---\n",
    "Este ejemplo muestra las principales funcionalidades del módulo `stemming`, de la librería **ConTexto**. Este módulo permite aplicar *stemming* a textos. El *stemming* es un método para reducir una palabra a su \"raíz\" o \"tallo\" (*stem*, en inglés) a todas las formas flexionadas de palabras que compartan una misma raíz. Por ejemplo, las palabras niños, niña y niñez tienen todas la misma raíz: \"niñ\". A diferencia de la lematización, en donde cada lema es una palabra que existe en el vocabulario del lenguaje correspondiente, las palabras raíz que se obtienen al aplicar *stemming* no necesariamente existen por sí solas como palabra. Aplicar *stemming* a textos puede simplificarlos, al unificar palabras que comparten la misma raíz, y evitando así tener un vocabulario más grande de lo necesario.\n",
    "\n",
    "Para mayor información sobre estos módulos y sus funciones, se puede consultar <a href=\"docs\" target=\"_blank\">su documentación</a>."
   ]
  },
  {
   "cell_type": "markdown",
   "metadata": {},
   "source": [
    "---\n",
    "\n",
    "## 1. Importar funciones necesarias y definir textos de prueba\n",
    "\n",
    "En este caso se importa la función `stem_texto`, que aplica *stemming* a un texto de entrada, y la clase `Stemmer`, que puede ser utilizada directamente, entre otras cosas, para agilizar el proceso de hacer *stemming* a una lista de varios textos. Adicionalmente, se definen algunos textos para desarrollar los ejemplos.\n"
   ]
  },
  {
   "cell_type": "code",
   "execution_count": 1,
   "metadata": {},
   "outputs": [],
   "source": [
    "import time\n",
    "from contexto.stemming import Stemmer, stem_texto\n",
    "\n",
    "# textos de prueba\n",
    "texto = 'Esta es una prueba para ver si las funciones son correctas y funcionan bien. Perritos y gatos van a la casita'\n",
    "texto_limpiar = \"Este texto, con signos de puntuación y mayúsculas, ¡será limpiado antes de pasar por la función!\"\n",
    "texto_ingles = 'This is a test writing to study if these functions are performing well.'\n",
    "textos = [\n",
    "    \"Esta es una primera entrada en el grupo de textos\",\n",
    "    \"El Pibe Valderrama empezó a destacar jugando fútbol desde chiquitin\",\n",
    "    \"De los pájaros del monte yo quisiera ser canario\",\n",
    "    \"Finalizando esta listica, se incluye una última frase un poquito más larga que las anteriores.\"\n",
    "]\n"
   ]
  },
  {
   "cell_type": "markdown",
   "metadata": {},
   "source": [
    "---\n",
    "\n",
    "## 2. *Stemming* de textos\n",
    "\n",
    "La función `stem_texto` se encarga de aplicar *stemming* a un texto de entrada. Esta función tiene parámetros opcionales para determinar el lenguaje del texto de entrada (si es \"auto\", lo detectará automáticamente). Adicionalmente, el parámetro *limpiar* permite hacer una limpieza básica al texto antes de aplicar el *stemming*\n"
   ]
  },
  {
   "cell_type": "code",
   "execution_count": 2,
   "metadata": {},
   "outputs": [
    {
     "name": "stdout",
     "output_type": "stream",
     "text": [
      "esta es una prueb par ver si las funcion son correct y funcion bien. perrit y gat van a la casit\n",
      "-------\n",
      "this is a test write to studi if these function are perform well.\n",
      "-------\n",
      "este text con sign de puntuacion y mayuscul ser limpi antes de pas por la funcion\n"
     ]
    }
   ],
   "source": [
    "# Determinar automáticamente el lenguaje del texto\n",
    "texto_stem = stem_texto(texto, 'auto')\n",
    "print(texto_stem)\n",
    "\n",
    "# Prueba en otro lenguaje\n",
    "stem_english = stem_texto(texto_ingles, 'inglés')\n",
    "print('-------')\n",
    "print(stem_english)\n",
    "\n",
    "# Prueba limpiando un texto antes\n",
    "print('-------')\n",
    "print(stem_texto(texto_limpiar, limpiar=True))\n"
   ]
  },
  {
   "cell_type": "markdown",
   "metadata": {},
   "source": [
    "---\n",
    "\n",
    "## 3. *Stemming* de varios textos utilizando un solo objeto de la clase `Stemmer`\n",
    "\n",
    "Si se desea aplicar *stemming* a un conjunto de textos, puede ser más rápido definir un único objeto de clase `Stemmer`, y pasar este objeto en el parámetro *stemmer* de la función `stem_texto`. Al hacer esto puede haber un ahorro de tiempo, pues se evita inicializar un nuevo objeto de clase `Stemmer` para cada texto. Este ahorro de tiempo será mayor a medida que sean más los textos que se desean procesar.\n",
    "\n",
    "A continuación se muestra una comparación de tiempos para dos opciones:\n",
    "\n",
    "1. Aplicar *stemming* a una lista de textos, aplicando la función `stem_texto` a cada uno sin ninguna otra consideración.\n",
    "2. Definir un objeto de clase `Stemmer` y utilizarlo para procesar la misma lista de textos"
   ]
  },
  {
   "cell_type": "code",
   "execution_count": 3,
   "metadata": {},
   "outputs": [
    {
     "name": "stdout",
     "output_type": "stream",
     "text": [
      "esta es una primer entrad en el grup de text\n",
      "el pib valderram empez a destac jug futbol desd chiquitin\n",
      "de los pajar del mont yo quis ser canari\n",
      "finaliz esta listic, se inclu una ultim fras un poquit mas larg que las anterior.\n",
      "----------\n",
      "esta es una primer entrad en el grup de text\n",
      "el pib valderram empez a destac jug futbol desd chiquitin\n",
      "de los pajar del mont yo quis ser canari\n",
      "finaliz esta listic, se inclu una ultim fras un poquit mas larg que las anterior.\n",
      "\n",
      "***************\n",
      "\n",
      "Tiempo con opción 1: 0.011686086654663086 segundos\n",
      "\n",
      "Tiempo con opción 2: 0.005533456802368164 segundos\n",
      "\n"
     ]
    }
   ],
   "source": [
    "# Opción 1: se inicializa el stemmer en cada texto\n",
    "tic = time.time()\n",
    "for t in textos:\n",
    "    print(stem_texto(t))\n",
    "\n",
    "tiempo_1 = time.time() - tic\n",
    "\n",
    "# Opción 2: se utiliza solo un lematizador para todos los textos\n",
    "print('----------')\n",
    "tic = time.time()\n",
    "stemmer = Stemmer(lenguaje='español')\n",
    "for t in textos:\n",
    "    print(stem_texto(t, stemmer=stemmer))\n",
    "\n",
    "tiempo_2 = time.time() - tic\n",
    "\n",
    "print('\\n***************\\n')\n",
    "print(f'Tiempo con opción 1: {tiempo_1} segundos\\n')\n",
    "print(f'Tiempo con opción 2: {tiempo_2} segundos\\n')\n"
   ]
  }
 ],
 "metadata": {
  "kernelspec": {
   "display_name": "Python 3",
   "language": "python",
   "name": "python3"
  },
  "language_info": {
   "codemirror_mode": {
    "name": "ipython",
    "version": 3
   },
   "file_extension": ".py",
   "mimetype": "text/x-python",
   "name": "python",
   "nbconvert_exporter": "python",
   "pygments_lexer": "ipython3",
   "version": "3.8.5"
  }
 },
 "nbformat": 4,
 "nbformat_minor": 4
}
