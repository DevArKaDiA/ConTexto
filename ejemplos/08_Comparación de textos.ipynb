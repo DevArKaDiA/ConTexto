{
 "cells": [
  {
   "cell_type": "markdown",
   "metadata": {},
   "source": [
    "# Ejemplo: Comparación de textos\n",
    "**Autor:** Unidad de Científicos de Datos (UCD)\n",
    "\n",
    "---\n",
    "Este ejemplo muestra las principales funcionalidades del módulo `comparacion`, de la librería **ConTexto**. Este módulo permite generar calcular distintas métricas de distancia y similitud entre dos o mas textos. La capacidad para cuantificar qué tan similares o diferentes son un grupo de textos o cadenas de caracteres entre sí puede ser muy útil para ciertos procesos como detección de textos atípicos, identificación de afinidad entre documentos y estandarización de valores *string*, entre otros.\n",
    "\n",
    "Para mayor información sobre este módulo y sus funciones, se puede consultar <a href=\"https://ucd-dnp.github.io/ConTexto/funciones/comparacion.html\" target=\"_blank\">su documentación</a>."
   ]
  },
  {
   "cell_type": "markdown",
   "metadata": {},
   "source": [
    "---\n",
    "\n",
    "## 1. Importar paquetes necesarios y adecuar texto de prueba\n",
    "\n",
    "El primer paso es importar las tres clases del módulo de `comparacion` con las que se va a trabajar, y definir los textos para correr los ejemplos. "
   ]
  },
  {
   "cell_type": "code",
   "execution_count": 1,
   "metadata": {},
   "outputs": [],
   "source": [
    "from contexto.comparacion import Similitud, Distancia, DiferenciaStrings\n",
    "from contexto.vectorizacion import *\n",
    "\n",
    "# Textos para probar las medidas de similitud y distancia\n",
    "textos_prueba = [\n",
    "    'primero de los dos textos de prueba',\n",
    "    'segundo de los textos de evaluación',\n",
    "    'una tercera oración que se empieza a alejar de los textos anteriores',\n",
    "    'este no tiene ninguna relación con nada'\n",
    "]\n"
   ]
  },
  {
   "cell_type": "markdown",
   "metadata": {},
   "source": [
    "Adicionalmente, para el cálculo de varias distancias y similitudes es necesaria una representación numérica o vectorial de los textos. Para esto se puede trabajar directamente con los vectores que representan cada uno de los textos, o se puede utilizar alguno de los vectorizadores del módulo `vectorizacion` de **ConTexto**.\n",
    "\n",
    "En este ejemplo se van a probar ambas opciones, por lo que es necesario inicializar los vectorizadores que se van a utilizar y también obtener las representaciones vectoriales de los textos de prueba."
   ]
  },
  {
   "cell_type": "code",
   "execution_count": 2,
   "metadata": {},
   "outputs": [],
   "source": [
    "## Preparar los insumos\n",
    "\n",
    "# Definir algunos vectorizadores para hacer diferentes pruebas\n",
    "v_bow = VectorizadorFrecuencias()\n",
    "v_tf = VectorizadorFrecuencias(tipo='tfidf', idf=False)\n",
    "v_tfidf = VectorizadorFrecuencias(tipo='tfidf')\n",
    "v_hashing = VectorizadorHash()\n",
    "v_word2vec = VectorizadorWord2Vec()\n",
    "\n",
    "# Ajustar los vectorizadores (cuando aplique) al corpus de textos\n",
    "v_bow.ajustar(textos_prueba)\n",
    "v_tf.ajustar(textos_prueba)\n",
    "v_tfidf.ajustar(textos_prueba)\n",
    "\n",
    "# Obtener representaciones vectoriales de los textos y guardarlas en un diccionario\n",
    "vectores = {}\n",
    "llaves = ['bow', 'tf', 'tfidf', 'hash', 'word2vec']\n",
    "for i, v in enumerate([v_bow, v_tf, v_tfidf, v_hashing, v_word2vec]):\n",
    "    vectores[llaves[i]] = v.vectorizar(textos_prueba)\n",
    "\n"
   ]
  },
  {
   "cell_type": "markdown",
   "metadata": {},
   "source": [
    "---\n",
    "\n",
    "## 2. Medidas de similitud entre textos\n",
    "\n",
    "La clase `Similitud` permite calcular dos métricas de similitud, coseno y Jaccard, para cuantificar qué tan parecidos son dos textos entre sí. Entre más alto sea el valor de similitud (valor máximo es 1), más similares serán los dos textos.\n",
    "\n",
    "### 2.1 Inicializar los objetos de clase `Similitud`\n",
    "\n",
    "Al inicializar los objetos de clase `Similitud` se pasa como parámetro un vectorizador para poder obtener las representaciones vectoriales de los textos de entrada que se le pasen. Si no se pasa ningún vectorizador, por defecto inicializará uno de la clase `VectorizadorWord2Vec`, del idioma especificado por el usuario (por defecto: español). Si a los métodos del objeto de clase `Similitud` se pasan vectores en vez de textos como entrada, no importa qué vectorizador tenga, pues no lo utilizará.\n",
    "\n",
    "Es importante recalcar que si se pasa un vectorizador al objeto de Similitud, este ya debe estar ajustado, en caso de que aplique. Esto es particularmente relevante para los vectores de clases `VectorizadorFrecuencias` y `VectorizadorDoc2Vec`."
   ]
  },
  {
   "cell_type": "code",
   "execution_count": 3,
   "metadata": {},
   "outputs": [],
   "source": [
    "## Inicializar objetos de clase Similitud\n",
    "\n",
    "s_bow = Similitud(v_bow)\n",
    "s_tf = Similitud(v_tf)\n",
    "s_tfidf = Similitud(v_tfidf)\n",
    "s_hashing = Similitud(v_hashing)\n",
    "s_word2vec = Similitud(v_word2vec)"
   ]
  },
  {
   "cell_type": "markdown",
   "metadata": {},
   "source": [
    "### 2.2 Similitud coseno\n",
    "\n",
    "La similitud coseno es un valor entre -1 y 1 que mide qué tan \"alineados\" están dos vectores. Este valor se puede obtener al llamar el método `coseno` del objeto de clase `Similitud`. Como argumentos se pueden pasar:\n",
    "\n",
    "* Dos textos (o vectores). En este caso se retornará un arreglo de numpy de dos dimensiones, con el valor de la similitud entre las dos entradas.\n",
    "* Una lista de *n* textos (o vectores). En este caso se retornará un arreglo de numpy de dos dimensiones, que representa una matriz de *nxn* simétrica, en donde la posición *i,j* muestra la similitud del texto/vector *i* con el texto/vector *j*.\n",
    "\n",
    "Los vectorizadores basados en frecuencias (sin consideraciones adicionales, como tener en cuenta la frecuencia inversa IDF) arrojarán resultados muy similares al medir la similitud coseno, incluso si los valores de los vectores generados no son los mismos."
   ]
  },
  {
   "cell_type": "code",
   "execution_count": 4,
   "metadata": {},
   "outputs": [
    {
     "name": "stdout",
     "output_type": "stream",
     "text": [
      "Similitudes entre los textos de prueba (BOW, TF o HASHING):\n",
      "[[1.         0.70710678 0.40201513 0.        ]\n",
      " [0.70710678 1.         0.42640143 0.        ]\n",
      " [0.40201513 0.42640143 1.         0.        ]\n",
      " [0.         0.         0.         1.        ]]\n",
      "----------\n",
      "Similitudes entre los textos de prueba (TF-IDF):\n",
      "[[1.         0.49693115 0.22998344 0.        ]\n",
      " [0.49693115 1.         0.25454493 0.        ]\n",
      " [0.22998344 0.25454493 1.         0.        ]\n",
      " [0.         0.         0.         1.        ]] \n",
      "\n"
     ]
    }
   ],
   "source": [
    "## Calcular similitudes con vectorizadores basados en frecuencias de términos\n",
    "coseno_bow = s_bow.coseno(textos_prueba)\n",
    "coseno_tf = s_tf.coseno(textos_prueba)\n",
    "coseno_hashing = s_hashing.coseno(textos_prueba)\n",
    "\n",
    "# La vectorización TF-IDF tiene unos resultados distintos\n",
    "coseno_tfidf = s_tfidf.coseno(textos_prueba)\n",
    "\n",
    "print('Similitudes entre los textos de prueba (BOW, TF o HASHING):')\n",
    "print(coseno_bow)\n",
    "print('----------\\nSimilitudes entre los textos de prueba (TF-IDF):')\n",
    "print(coseno_tfidf,'\\n')"
   ]
  },
  {
   "cell_type": "markdown",
   "metadata": {},
   "source": [
    "En general, los vectorizadores basados en frecuencias tendrán diferencias mayores dependiendo de las palabras que estén presentes en los textos. Los vectorizadores densos como word2vec o doc2vec son menos radicales, lo que permite encontrar similitud entre textos con significados parecidos, incluso si no tienen tantas palabras en común.\n",
    "\n",
    "También es posible ingresar directamente los vectores pre-calculados. Esto debería arrojar los mismos resultados que ingresando los textos, siempre y cuando se haya utilizado el mismo vectorizador."
   ]
  },
  {
   "cell_type": "code",
   "execution_count": 5,
   "metadata": {},
   "outputs": [
    {
     "name": "stdout",
     "output_type": "stream",
     "text": [
      "Similitudes entre los textos de prueba (Word2Vec):\n",
      "[[1.0000001  0.9347326  0.6558729  0.23863341]\n",
      " [0.9347326  0.9999998  0.64198124 0.22747502]\n",
      " [0.6558729  0.64198124 0.9999997  0.49457312]\n",
      " [0.23863341 0.22747502 0.49457312 1.0000004 ]]\n",
      "-----------\n",
      "Igualdad entre utilizar los textos directamente o sus representaciones vectoriales: True\n"
     ]
    }
   ],
   "source": [
    "coseno_doc2vec = s_word2vec.coseno(textos_prueba)\n",
    "print('Similitudes entre los textos de prueba (Word2Vec):')\n",
    "print(coseno_doc2vec)\n",
    "\n",
    "coseno_tfidf_vec = s_tfidf.coseno(vectores['tfidf'])\n",
    "iguales = (coseno_tfidf == coseno_tfidf_vec).all()\n",
    "print('-----------')\n",
    "print('Igualdad entre utilizar los textos directamente o sus representaciones vectoriales:', iguales)\n"
   ]
  },
  {
   "cell_type": "markdown",
   "metadata": {},
   "source": [
    "### 2.3 Similitud de Jaccard\n",
    "\n",
    "La similitud de Jaccard es un valor entre 0 y 1 que mide cuántos elementos tienen en común dos vectores, al calcular la intersección sobre la unión de los elementos. Este valor se puede obtener al llamar el método `jaccard` del objeto de clase `Similitud`. Las entradas y salidas de este método son iguales a las del método `coseno`.\n",
    "\n",
    "El cálculo de la similitud de Jaccard funciona bien con vectorizadores basados en frecuencias (BOW, TF-IDF, Hashing), o directamente con los textos sin vectorizar, aunque en este segundo caso pueden presentarse resultados distintos. Esto se debe a que, sí se pasan directamente los textos sin vectorizar, la \"unión\" de elementos se definirá como todos los términos que aparecen en por lo menos uno de los dos textos. Por otro lado, si se usa, por ejemplo, un vectorizador BOW con un vocabulario más amplio para hacer la vectorización, es posible que hayan palabras en dicho vocabulario que cuentan en la unión de elementos, pero realmente no están en ninguno de los dos textos a comparar."
   ]
  },
  {
   "cell_type": "code",
   "execution_count": 6,
   "metadata": {},
   "outputs": [
    {
     "name": "stdout",
     "output_type": "stream",
     "text": [
      "True\n"
     ]
    },
    {
     "data": {
      "text/plain": [
       "array([[ True,  True, False,  True],\n",
       "       [ True,  True, False,  True],\n",
       "       [False, False,  True,  True],\n",
       "       [ True,  True,  True,  True]])"
      ]
     },
     "execution_count": 6,
     "metadata": {},
     "output_type": "execute_result"
    }
   ],
   "source": [
    "# Utilizar el parámetro \"vectorizar=True\" debería dar el mismo resultado\n",
    "# que aplicar la función directamente sobre vectores pre computados\n",
    "a = s_bow.jaccard(textos_prueba, vectorizar=True)\n",
    "b = s_bow.jaccard(vectores['bow'])\n",
    "print((a == b).all())\n",
    "\n",
    "# Al aplicar la función directamente sobre los textos, los resultados pueden\n",
    "# variar, dado que solo se toma en cuenta el vocabulario de cada par de textos\n",
    "# a comparar (a diferencia del vocabulario total del corpus que se tiene en \n",
    "# cuenta en el vectorizador)\n",
    "c = s_bow.jaccard(textos_prueba)\n",
    "a == c"
   ]
  },
  {
   "cell_type": "markdown",
   "metadata": {},
   "source": [
    "Mientras los vectorizadores utilizados sean basados en frecuencias, el cálculo de similitud Jaccard funcionará bien. Por el otro lado, los vectorizadores word2vec y doc2vec generan una representación densa, por lo que no dan buenos resultados al utilizarse en este caso."
   ]
  },
  {
   "cell_type": "code",
   "execution_count": 7,
   "metadata": {},
   "outputs": [
    {
     "name": "stdout",
     "output_type": "stream",
     "text": [
      "Similitudes entre los textos de prueba (TF-IDF o HASHING):\n",
      "[[1.         0.375      0.21428571 0.        ]\n",
      " [0.375      1.         0.23076923 0.        ]\n",
      " [0.21428571 0.23076923 1.         0.        ]\n",
      " [0.         0.         0.         1.        ]]\n",
      "-------\n",
      "Similitudes entre los textos de prueba (Word2Vec):\n",
      "[[1. 1. 1. 1.]\n",
      " [1. 1. 1. 1.]\n",
      " [1. 1. 1. 1.]\n",
      " [1. 1. 1. 1.]]\n"
     ]
    }
   ],
   "source": [
    "# Cálculo utilizando vectorizadores basados en frecuencias\n",
    "jaccard_tfidf = s_tfidf.jaccard(textos_prueba, True)\n",
    "jaccard_hashing = s_hashing.jaccard(textos_prueba, True)\n",
    "print('Similitudes entre los textos de prueba (TF-IDF o HASHING):')\n",
    "print(jaccard_tfidf)\n",
    "\n",
    "# Cálculo utilizando word2vec\n",
    "jaccard_word2vec = s_word2vec.jaccard(textos_prueba, True)\n",
    "print('-------\\nSimilitudes entre los textos de prueba (Word2Vec):')\n",
    "print(jaccard_word2vec)"
   ]
  },
  {
   "cell_type": "markdown",
   "metadata": {},
   "source": [
    "---\n",
    "\n",
    "## 3. Medidas de distancia entre textos\n",
    "\n",
    "La clase `Distancia` permite calcular varias métricas de distancia para cuantificar qué tan diferentes son dos textos entre sí. Entre más bajo sea el valor de distancia (valor mínimo es 0), más similares serán los dos textos.\n",
    "\n",
    "### 3.1 Inicializar los objetos de clase `Distancia`\n",
    "\n",
    "Al inicializar los objetos de clase `Distancia` se pasa como parámetro un vectorizador para poder obtener las representaciones vectoriales de los textos de entrada que se le pasen. Si no se pasa ningún vectorizador, por defecto inicializará uno de la clase `VectorizadorWord2Vec`, del idioma especificado por el usuario (por defecto: español). Si a los métodos del objeto de clase `Distancia` se pasan vectores en vez de textos como entrada, no importa qué vectorizador tenga, pues no lo utilizará.\n",
    "\n",
    "Es importante recalcar que si se pasa un vectorizador al objeto de Similitud, este ya debe estar ajustado, en caso de que aplique. Esto es particularmente relevante para los vectores de clases `VectorizadorFrecuencias` y `VectorizadorDoc2Vec`."
   ]
  },
  {
   "cell_type": "code",
   "execution_count": 8,
   "metadata": {},
   "outputs": [],
   "source": [
    "## Inicializar objetos de clase Distancia\n",
    "d_bow = Distancia(v_bow)\n",
    "d_tf = Distancia(v_tf)\n",
    "d_tfidf = Distancia(v_tfidf)\n",
    "d_hashing = Distancia(v_hashing)\n",
    "d_word2vec = Distancia(v_word2vec)\n"
   ]
  },
  {
   "cell_type": "markdown",
   "metadata": {},
   "source": [
    "### 3.2 Métricas de distancias\n",
    "\n",
    "La clase `Distancia` permite calcular más de 5 métricas de distancia distintas, que se muestran en las siguientes celdas de este cuaderno. En general, los argumentos de entrada y las salidas funcionan igual al caso de las similitudes:\n",
    "\n",
    "* Si se pasan dos textos (o vectores), se retornará un arreglo de numpy de dos dimensiones, con el valor de la distancia entre las dos entradas.\n",
    "* Si se pasa una lista de *n* textos (o vectores), se retornará un arreglo de numpy de dos dimensiones, que representa una matriz de *nxn* simétrica, en donde la posición *i,j* muestra la distancia del texto/vector *i* con el texto/vector *j*.\n",
    "\n",
    "En este caso, los valores de distancias generalmente variarán dependiendo del vectorizador utilizado (a diferencia de las similitudes, que en algunos casos calculaban los mismos valores para vectorizadores distintos). En todo caso, a pesar de que cambien los valores y las escalas, en general sí se debería mantener un mismo orden. Es decir, textos más cercanos y más lejanos entre sí deberían mantener este comportameniento sin importar el vectorizador utilizado."
   ]
  },
  {
   "cell_type": "code",
   "execution_count": 9,
   "metadata": {},
   "outputs": [
    {
     "name": "stdout",
     "output_type": "stream",
     "text": [
      "Distancias L2 entre los textos de prueba (Word2Vec):\n",
      "[[ 0.       10.218398 20.964655 31.797607]\n",
      " [10.218398  0.       22.503887 33.3239  ]\n",
      " [20.964655 22.503887  0.       23.959114]\n",
      " [31.797607 33.3239   23.959114  0.      ]]\n",
      "-----\n",
      "Distancias de Hamming entre los textos de prueba (HASHING):\n",
      "[[0.   0.08 0.14 0.13]\n",
      " [0.08 0.   0.13 0.12]\n",
      " [0.14 0.13 0.   0.18]\n",
      " [0.13 0.12 0.18 0.  ]]\n"
     ]
    }
   ],
   "source": [
    "## Métricas de distancia definidas\n",
    "\n",
    "# Distancia L1\n",
    "l1_bow = d_bow.l1(textos_prueba)\n",
    "\n",
    "# Distancia L2\n",
    "l2_word2vec =d_word2vec.l2(textos_prueba)\n",
    "\n",
    "# Distancia Hamming\n",
    "hamming_hashing = d_hashing.hamming(textos_prueba)\n",
    "\n",
    "print('Distancias L2 entre los textos de prueba (Word2Vec):')\n",
    "print(l2_word2vec)\n",
    "print('-----\\nDistancias de Hamming entre los textos de prueba (HASHING):')\n",
    "print(hamming_hashing)"
   ]
  },
  {
   "cell_type": "markdown",
   "metadata": {},
   "source": [
    "La distancia Minkowski es una generalización de las operaciones que se utilizan para calcular la distancia L1 o L2. El parámetro *p* permite definir el grado a utilizar en el cálculo de la distancia.\n",
    "\n",
    "Por ejemplo, si *p=1*, se calculará la distancia L1 y si *p=2* se calculará la distancia L2."
   ]
  },
  {
   "cell_type": "code",
   "execution_count": 10,
   "metadata": {},
   "outputs": [
    {
     "name": "stdout",
     "output_type": "stream",
     "text": [
      "Distancias de Minkowski (grado 3) entre los textos de prueba (TF-IDF):\n",
      "[[0.         0.76622556 0.82452962 0.93553864]\n",
      " [0.76622556 0.         0.82547379 0.95425713]\n",
      " [0.82452962 0.82547379 0.         0.88428327]\n",
      " [0.93553864 0.95425713 0.88428327 0.        ]]\n",
      "-----\n",
      "Distancias de Minkowski grado 2 iguales a distancias L2 (Word2Vec): True \n",
      "\n"
     ]
    }
   ],
   "source": [
    "## Distancia Minkowski \n",
    "\n",
    "# Distancia con grado 3\n",
    "l3_tfidf =d_tfidf.minkowski(textos_prueba, p=3) \n",
    "\n",
    "# Misma distancia L2\n",
    "minkowski_2_word2vec = d_word2vec.minkowski(textos_prueba, p=2) \n",
    "iguales = (l2_word2vec == minkowski_2_word2vec).all()\n",
    "\n",
    "print('Distancias de Minkowski (grado 3) entre los textos de prueba (TF-IDF):')\n",
    "print(l3_tfidf)\n",
    "print('-----\\nDistancias de Minkowski grado 2 iguales a distancias L2 (Word2Vec):', iguales, '\\n')\n"
   ]
  },
  {
   "cell_type": "markdown",
   "metadata": {},
   "source": [
    "Una de las distancias que se pueden calcular es la distancia de Jaccard. Esta distancia es complementaria a la similitud de Jaccard, por lo que la suma de ambas medidas siempre debe ser igual a 1."
   ]
  },
  {
   "cell_type": "code",
   "execution_count": 11,
   "metadata": {},
   "outputs": [
    {
     "data": {
      "text/plain": [
       "array([[1., 1., 1., 1.],\n",
       "       [1., 1., 1., 1.],\n",
       "       [1., 1., 1., 1.],\n",
       "       [1., 1., 1., 1.]])"
      ]
     },
     "execution_count": 11,
     "metadata": {},
     "output_type": "execute_result"
    }
   ],
   "source": [
    "# Distancia Jaccard\n",
    "jaccard_tfidf = d_tfidf.jaccard(textos_prueba)\n",
    "\n",
    "# La suma de la distancia y similitud de jaccard entre dos vectores debería dar 1\n",
    "jaccard_tfidf + s_tfidf.jaccard(textos_prueba, vectorizar=True)\n"
   ]
  },
  {
   "cell_type": "markdown",
   "metadata": {},
   "source": [
    "### 3.3 Otras métricas de distancias\n",
    "\n",
    "Adicionalmente a las funciones que la clase `Distancia` trae implementadas, el método `distancia_pares` permite calcular otras distancias, que se especifican por medio del parámetro *tipo_distancia*. Las métricas que se pueden utilizar son las soportadas por scikit-learn y scipy. Para mayor información, se puede consultar <a href=\"https://scikit-learn.org/stable/modules/generated/sklearn.metrics.pairwise_distances.html\" target=\"_blank\">la documentación de scikit-learn</a>.\n",
    "\n",
    "Algunas de estas métricas pueden requerir o aceptar argumentos adicionales. Estos parámetros pueden ser pasados al método `distancia_pares` con el mismo nombre con el que aparezcan en la documentación de scikit-learn y <a href=\"https://docs.scipy.org/doc/scipy/reference/spatial.distance.html\" target=\"_blank\">la documentación de scipy</a>."
   ]
  },
  {
   "cell_type": "code",
   "execution_count": 12,
   "metadata": {},
   "outputs": [],
   "source": [
    "# Algunos ejemplos:\n",
    "chebyshev_word2vec = d_word2vec.distancia_pares(textos_prueba, tipo_distancia='chebyshev')\n",
    "rogerstanimoto_bow = d_bow.distancia_pares(textos_prueba, 'rogerstanimoto')\n",
    "braycurtis_tfidf = d_tfidf.distancia_pares(textos_prueba, 'braycurtis')\n"
   ]
  },
  {
   "cell_type": "markdown",
   "metadata": {},
   "source": [
    "---\n",
    "\n",
    "## 4. Diferencias entre textos a nivel de caracteres\n",
    "\n",
    "Finalmente, la clase `DiferenciaStrings` permite calcular métricas, tanto de similitud como de distancia, para cuantificar a nivel de caracteres qué tan parecidos o diferentes son dos textos entre sí. Esta clase se recomienda para comparaciones de cadenas de caracteres (*strings*) relativamente cortas, como nombres, direcciones y otras cadenas de caracteres similares.\n",
    "Para textos más largos, se recomiendan las clases `Similitud` y/o `Distancia`.\n",
    "\n",
    "### 4.1 Definir textos de prueba e inicializar objeto de clase `DiferenciaStrings`\n",
    "Como se mencionó arriba, esta clase funciona mejor con textos cortos, por lo que se definen 4 *strings* más cortos para correr el ejemplo. También se define un objeto de clase `DiferenciaStrings`, que contiene todos los métodos necesarios para calcular las similitudes y distancias.\n"
   ]
  },
  {
   "cell_type": "code",
   "execution_count": 13,
   "metadata": {},
   "outputs": [],
   "source": [
    "## Textos de prueba\n",
    "t1 = 'pescado'\n",
    "t2 = 'pecsado'\n",
    "t3 = 'Jonhatan Ruiz Diaz'\n",
    "t4 = 'Jonatan Ruis Díaz'\n",
    "strings = [t1, t2, t3, t4]\n",
    "\n",
    "## Inicializar objeto de clase Distancia\n",
    "dif_strings = DiferenciaStrings()"
   ]
  },
  {
   "cell_type": "markdown",
   "metadata": {},
   "source": [
    "### 4.2 Cálculo de medidas de distancia y similitud\n",
    "\n",
    "La clase `DiferenciaStrings` utiliza por debajo la librería jellyfish para calcular las diferencias y similitudes a niveles de caracteres. Para mayor información sobre las medidas disponibles y en qué consiste cada una, se puede consultar <a href=\"https://jellyfish.readthedocs.io/en/latest/comparison.html\" target=\"_blank\">la documentación de jellyfish</a>.\n",
    "\n",
    "Para todos los métodos de esta clase, es necesario como entrada proporcionar una lista de los *n* *strings* o textos a comparar. La salida sertá un arreglo de numpy de dos dimensiones de *nxn* simétrica, en donde la posición *i,j* muestra la métrica de distancia/similitud elegida del string *i* con el string *j*.\n"
   ]
  },
  {
   "cell_type": "code",
   "execution_count": 14,
   "metadata": {},
   "outputs": [
    {
     "name": "stdout",
     "output_type": "stream",
     "text": [
      "Distancia de Levenshtein entre 2 textos de prueba:\n",
      "[[3]]\n",
      "------\n",
      "Distancias de Hamming entre los textos de prueba:\n",
      "[[ 0.  2. 17. 17.]\n",
      " [ 2.  0. 17. 17.]\n",
      " [17. 17.  0. 15.]\n",
      " [17. 17. 15.  0.]]\n"
     ]
    }
   ],
   "source": [
    "## Diferencia entre dos textos\n",
    "d1 = dif_strings.distancia_levenshtein([t3,t4])\n",
    "d2 = dif_strings.distancia_damerau_levenshtein([t1,t2])\n",
    "d3 = dif_strings.distancia_hamming(strings) \n",
    "\n",
    "print('Distancia de Levenshtein entre 2 textos de prueba:')\n",
    "print(d1)\n",
    "print('------\\nDistancias de Hamming entre los textos de prueba:')\n",
    "print(d3)\n"
   ]
  },
  {
   "cell_type": "code",
   "execution_count": 15,
   "metadata": {},
   "outputs": [
    {
     "name": "stdout",
     "output_type": "stream",
     "text": [
      "Similitud de Jaro entre 2 textos de prueba:\n",
      "[[0.95238095]]\n",
      "------\n",
      "Similitudes de Jaro Winkler entre los textos de prueba:\n",
      "[[1.         0.96190476 0.2989418  0.30112045]\n",
      " [0.96190476 1.         0.2989418  0.30112045]\n",
      " [0.2989418  0.2989418  1.         0.90254902]\n",
      " [0.30112045 0.30112045 0.90254902 1.        ]]\n"
     ]
    }
   ],
   "source": [
    "## Similitud entre strings\n",
    "\n",
    "# Similitud entre dos textos\n",
    "s1 = dif_strings.similitud_jaro([t1,t2])\n",
    "# Similitud entre lista de textos\n",
    "s2 = dif_strings.similitud_jaro_winkler(strings)\n",
    "\n",
    "print('Similitud de Jaro entre 2 textos de prueba:')\n",
    "print(s1)\n",
    "print('------\\nSimilitudes de Jaro Winkler entre los textos de prueba:')\n",
    "print(s2)\n"
   ]
  },
  {
   "cell_type": "markdown",
   "metadata": {},
   "source": [
    "### 4.3 Normalización de medidas de distancia\n",
    "\n",
    "Para los métodos de distancia (`distancia_levenshtein`, `distancia_damerau_levenshtein` y `distancia_hamming`) es posible utilizar el parámetro *norm*, que por defecto es igual a None, para normalizar la distancia calculada.\n",
    "\n",
    "Si *norm=1*, se dividirá la distancia encontrada por la longitud (número de caracteres) del texto más corto de los dos a comparar. Si *norm=2*, se dividirá la distancia encontrada por la longitud (número de caracteres) del texto más largo. En este segundo caso se puede garantizar que el valor resultante será un número entre 0 y 1."
   ]
  },
  {
   "cell_type": "code",
   "execution_count": 16,
   "metadata": {},
   "outputs": [
    {
     "name": "stdout",
     "output_type": "stream",
     "text": [
      "Distancia de Damerau Levenshtein, sin normalizar:\n",
      "[[ 0.  1. 17. 16.]\n",
      " [ 1.  0. 17. 16.]\n",
      " [17. 17.  0.  3.]\n",
      " [16. 16.  3.  0.]]\n",
      "------\n",
      "Distancia de Damerau Levenshtein, dividiendo por longitud de texto corto:\n",
      "[[0.         0.14285714 2.42857143 2.28571429]\n",
      " [0.14285714 0.         2.42857143 2.28571429]\n",
      " [2.42857143 2.42857143 0.         0.17647059]\n",
      " [2.28571429 2.28571429 0.17647059 0.        ]]\n",
      "------\n",
      "Distancia de Damerau Levenshtein, dividiendo por longitud de texto largo:\n",
      "[[0.         0.14285714 0.94444444 0.94117647]\n",
      " [0.14285714 0.         0.94444444 0.94117647]\n",
      " [0.94444444 0.94444444 0.         0.16666667]\n",
      " [0.94117647 0.94117647 0.16666667 0.        ]]\n"
     ]
    }
   ],
   "source": [
    "# Diferencia entre lista de textos\n",
    "d1 = dif_strings.distancia_damerau_levenshtein(strings)\n",
    "# Normalizar dividiendo por el texto más corto\n",
    "d2= dif_strings.distancia_damerau_levenshtein(strings, norm=1)\n",
    "# Normalizar dividiendo por el texto más largo (se garantiza que queda entre 0 y 1)\n",
    "d3= dif_strings.distancia_damerau_levenshtein(strings, norm=2)\n",
    "\n",
    "\n",
    "print('Distancia de Damerau Levenshtein, sin normalizar:')\n",
    "print(d1)\n",
    "print('------\\nDistancia de Damerau Levenshtein, dividiendo por longitud de texto corto:')\n",
    "print(d2)\n",
    "print('------\\nDistancia de Damerau Levenshtein, dividiendo por longitud de texto largo:')\n",
    "print(d3)"
   ]
  }
 ],
 "metadata": {
  "kernelspec": {
   "display_name": "Python 3",
   "language": "python",
   "name": "python3"
  },
  "language_info": {
   "codemirror_mode": {
    "name": "ipython",
    "version": 3
   },
   "file_extension": ".py",
   "mimetype": "text/x-python",
   "name": "python",
   "nbconvert_exporter": "python",
   "pygments_lexer": "ipython3",
   "version": "3.8.5"
  }
 },
 "nbformat": 4,
 "nbformat_minor": 4
}
